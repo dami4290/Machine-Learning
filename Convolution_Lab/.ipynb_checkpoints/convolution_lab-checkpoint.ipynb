{
 "cells": [
  {
   "cell_type": "code",
   "execution_count": null,
   "id": "abb13825-ff9e-44c2-a0b1-fc229028d9a4",
   "metadata": {},
   "outputs": [],
   "source": [
    "import cv2\n",
    "import numpy as np\n",
    "from matplotlib import pyplot as plt"
   ]
  },
  {
   "cell_type": "markdown",
   "id": "b35c6587",
   "metadata": {},
   "source": [
    "### Import Your Image"
   ]
  },
  {
   "cell_type": "code",
   "execution_count": null,
   "id": "1a822b9c",
   "metadata": {},
   "outputs": [],
   "source": [
    "stairs = cv2.imread('images/staircase.jpg')"
   ]
  },
  {
   "cell_type": "code",
   "execution_count": null,
   "id": "ed92baee",
   "metadata": {},
   "outputs": [],
   "source": [
    "plt.imshow(cv2.cvtColor(stairs, cv2.COLOR_BGR2RGB))\n",
    "plt.show()"
   ]
  },
  {
   "cell_type": "code",
   "execution_count": null,
   "id": "c3fc8ec2",
   "metadata": {},
   "outputs": [],
   "source": [
    "gray_stairs = cv2.cvtColor(stairs, cv2.COLOR_BGR2GRAY)"
   ]
  },
  {
   "cell_type": "code",
   "execution_count": null,
   "id": "d0bc76df",
   "metadata": {},
   "outputs": [],
   "source": [
    "plt.imshow(cv2.cvtColor(gray_stairs, cv2.COLOR_BGR2RGB))\n",
    "plt.show()"
   ]
  },
  {
   "cell_type": "markdown",
   "id": "8ef1d1e7",
   "metadata": {},
   "source": [
    "### Conduct a Convolution"
   ]
  },
  {
   "cell_type": "code",
   "execution_count": null,
   "id": "f694a703-59e4-4697-a737-1810d59ffb6d",
   "metadata": {},
   "outputs": [],
   "source": [
    "#Create your matrix\n",
    "conv2d = [[1,1,1],\n",
    "         [1,1,1],\n",
    "         [1,1,1]]\n",
    "\n",
    "conv2d = np.array(conv2d)"
   ]
  },
  {
   "cell_type": "code",
   "execution_count": null,
   "id": "046550c4",
   "metadata": {},
   "outputs": [],
   "source": [
    "conv_img = cv2.filter2D(gray_stairs, -1, conv2d)"
   ]
  },
  {
   "cell_type": "code",
   "execution_count": null,
   "id": "5ab1ea6a",
   "metadata": {},
   "outputs": [],
   "source": [
    "#Show Convolved Image\n",
    "plt.imshow(cv2.cvtColor(conv_img, cv2.COLOR_BGR2RGB))\n",
    "plt.show()"
   ]
  }
 ],
 "metadata": {
  "kernelspec": {
   "display_name": "Python 3 (ipykernel)",
   "language": "python",
   "name": "python3"
  },
  "language_info": {
   "codemirror_mode": {
    "name": "ipython",
    "version": 3
   },
   "file_extension": ".py",
   "mimetype": "text/x-python",
   "name": "python",
   "nbconvert_exporter": "python",
   "pygments_lexer": "ipython3",
   "version": "3.12.3"
  }
 },
 "nbformat": 4,
 "nbformat_minor": 5
}
